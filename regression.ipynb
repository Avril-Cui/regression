{
 "cells": [
  {
   "cell_type": "code",
   "execution_count": 202,
   "metadata": {},
   "outputs": [],
   "source": [
    "import numpy as np\n",
    "import matplotlib.pyplot as plt\n",
    "import random\n",
    "import math\n",
    "import pandas as pd"
   ]
  },
  {
   "attachments": {},
   "cell_type": "markdown",
   "metadata": {},
   "source": [
    "# Core Algorithm"
   ]
  },
  {
   "cell_type": "code",
   "execution_count": 203,
   "metadata": {},
   "outputs": [],
   "source": [
    "class Regression:\n",
    "    def __init__(self, training_data, n_features, learn_rate=10, n_iter=100, tolerance=1):\n",
    "        \"\"\"\n",
    "            training_data: DataFrame; raw dataset with two independent variables;\n",
    "            weights: array; output; coefficients\n",
    "            x: array; first independent variable;\n",
    "            y: array; second independent variable;\n",
    "            label: correct provided label;\n",
    "        \"\"\"\n",
    "        self.training_data = training_data\n",
    "        self.weights = np.zeros(n_features + 1)\n",
    "        self.learn_rate = learn_rate\n",
    "        self.n_iter = n_iter\n",
    "        self.tolerance = tolerance\n",
    "\n",
    "        self.label = training_data['label'].to_numpy()\n",
    "    \n",
    "    def prepare_x(self, index):\n",
    "        x = [1]\n",
    "        for column_name in self.training_data.columns:\n",
    "            if column_name != \"label\":\n",
    "                x.append(self.training_data[column_name].to_numpy()[index])\n",
    "        return x\n",
    "    \n",
    "    def calculate_gradient(self, lamb = 0):\n",
    "        length = len(self.label)\n",
    "        total = 0\n",
    "        for index in range(length):\n",
    "            x = self.prepare_x(index)\n",
    "            total += np.multiply(((np.dot(np.transpose(self.weights), x)) - self.label[index]), x)\n",
    "        gradient = (1 * total)/length + 2 * lamb * self.weights\n",
    "        return gradient\n",
    "    \n",
    "    def bgd(self):\n",
    "        for _ in range(self.n_iter):\n",
    "            gradient = self.calculate_gradient()\n",
    "            self.weights -= self.learn_rate * gradient\n",
    "            if np.linalg.norm(gradient) <= self.tolerance:\n",
    "                break\n",
    "        return self.weights\n",
    "    \n",
    "    # def calculate_stochastic_gradient(self, lamb = 0):\n",
    "    #     length = len(self.label)\n",
    "    #     index = random.randint(0, length-1)\n",
    "    #     x = self.prepare_x(index)\n",
    "    #     gradient = 2/length * np.multiply(((np.dot(np.transpose(self.weights), x)) - self.label[index]), x) + 2 * lamb * self.weights\n",
    "    #     return gradient\n",
    "    \n",
    "    # def sgd(self):\n",
    "    #     learn_rate = 1\n",
    "    #     for t in range(self.n_iter):\n",
    "    #         gradient = self.calculate_stochastic_gradient()\n",
    "    #         self.weights -= learn_rate * gradient\n",
    "    #         if t != 0:\n",
    "    #             learn_rate = 1/t\n",
    "    #         print(np.linalg.norm(gradient))\n",
    "    #         if np.linalg.norm(gradient) <= self.tolerance:\n",
    "    #             break\n",
    "    #     return self.weights\n",
    "        \n"
   ]
  },
  {
   "attachments": {},
   "cell_type": "markdown",
   "metadata": {},
   "source": [
    "# Testing"
   ]
  },
  {
   "cell_type": "code",
   "execution_count": 204,
   "metadata": {},
   "outputs": [],
   "source": [
    "data = pd.read_csv(\"data.csv\")\n",
    "data.rename(columns={'Salary': 'label'}, inplace=True)\n",
    "data.rename(columns={'YearsExperience' : '1'}, inplace=True)\n",
    "\n",
    "regression = Regression(training_data=data, n_features=1, learn_rate=0.05, n_iter=500, tolerance=10)\n",
    "weights = regression.bgd()"
   ]
  },
  {
   "cell_type": "code",
   "execution_count": 205,
   "metadata": {},
   "outputs": [
    {
     "data": {
      "text/plain": [
       "[<matplotlib.lines.Line2D at 0x7f7ea1a3c760>]"
      ]
     },
     "execution_count": 205,
     "metadata": {},
     "output_type": "execute_result"
    },
    {
     "data": {
      "image/png": "[encoded data removed]",
      "text/plain": [
       "<Figure size 360x216 with 1 Axes>"
      ]
     },
     "metadata": {
      "needs_background": "light"
     },
     "output_type": "display_data"
    }
   ],
   "source": [
    "#visualize raw data\n",
    "line_indpt = np.linspace(0, 12, 100)\n",
    "line = weights[1] * line_indpt + weights[0]\n",
    "plt.figure(figsize=(5,3))\n",
    "plt.scatter(data['1'], data[\"label\"])\n",
    "plt.plot(line_indpt, line, color=\"orange\")"
   ]
  },
  {
   "attachments": {},
   "cell_type": "markdown",
   "metadata": {},
   "source": [
    "# Polynomial Basis and Non-Linear Regression"
   ]
  },
  {
   "attachments": {},
   "cell_type": "markdown",
   "metadata": {},
   "source": [
    "No linear classifier in two dimensions; try transform it into a higher-dimensional dataset.\\\n",
    "Let $k=2$; the feature transformation is:\\\n",
    "$\\phi((x_1,x_2))=(1,x_1,x_2, x_1^2, x_1x_2, x_2^2)$"
   ]
  },
  {
   "cell_type": "code",
   "execution_count": 206,
   "metadata": {},
   "outputs": [
    {
     "data": {
      "text/plain": [
       "[<matplotlib.lines.Line2D at 0x7f7e60575220>]"
      ]
     },
     "execution_count": 206,
     "metadata": {},
     "output_type": "execute_result"
    },
    {
     "data": {
      "image/png": "[encoded data removed]",
      "text/plain": [
       "<Figure size 432x288 with 1 Axes>"
      ]
     },
     "metadata": {
      "needs_background": "light"
     },
     "output_type": "display_data"
    }
   ],
   "source": [
    "x = 7 * np.random.rand(100, 1) - 5\n",
    "y = 0.8 * x**2 + 0.9*x + 2 + np.random.randn(100, 1)\n",
    "plt.plot(x, y, 'b.')"
   ]
  },
  {
   "cell_type": "code",
   "execution_count": 207,
   "metadata": {},
   "outputs": [],
   "source": [
    "raw_data = {\n",
    "    \"1\": [item for sublist in x for item in sublist],\n",
    "    \"label\": [item for sublist in y for item in sublist]\n",
    "}\n",
    "\n",
    "data = pd.DataFrame(raw_data)"
   ]
  },
  {
   "cell_type": "code",
   "execution_count": 208,
   "metadata": {},
   "outputs": [
    {
     "data": {
      "text/plain": [
       "[<matplotlib.lines.Line2D at 0x7f7e70c38e50>]"
      ]
     },
     "execution_count": 208,
     "metadata": {},
     "output_type": "execute_result"
    },
    {
     "data": {
      "image/png": "[encoded data removed]",
      "text/plain": [
       "<Figure size 360x216 with 1 Axes>"
      ]
     },
     "metadata": {
      "needs_background": "light"
     },
     "output_type": "display_data"
    }
   ],
   "source": [
    "# try linear regression\n",
    "regression = Regression(training_data=data, n_features=1, learn_rate=0.05, n_iter=200, tolerance=1)\n",
    "weights = regression.bgd()\n",
    "\n",
    "line_indpt = np.linspace(-5, 2, 500)\n",
    "line = weights[1] * line_indpt + weights[0]\n",
    "plt.figure(figsize=(5,3))\n",
    "plt.scatter(data['1'], data[\"label\"])\n",
    "plt.plot(line_indpt, line, color=\"orange\")"
   ]
  },
  {
   "cell_type": "code",
   "execution_count": 209,
   "metadata": {},
   "outputs": [
    {
     "data": {
      "text/html": [
       "<div>\n",
       "<style scoped>\n",
       "    .dataframe tbody tr th:only-of-type {\n",
       "        vertical-align: middle;\n",
       "    }\n",
       "\n",
       "    .dataframe tbody tr th {\n",
       "        vertical-align: top;\n",
       "    }\n",
       "\n",
       "    .dataframe thead th {\n",
       "        text-align: right;\n",
       "    }\n",
       "</style>\n",
       "<table border=\"1\" class=\"dataframe\">\n",
       "  <thead>\n",
       "    <tr style=\"text-align: right;\">\n",
       "      <th></th>\n",
       "      <th>1</th>\n",
       "      <th>label</th>\n",
       "      <th>2</th>\n",
       "    </tr>\n",
       "  </thead>\n",
       "  <tbody>\n",
       "    <tr>\n",
       "      <th>0</th>\n",
       "      <td>-3.117690</td>\n",
       "      <td>7.288960</td>\n",
       "      <td>9.719989</td>\n",
       "    </tr>\n",
       "    <tr>\n",
       "      <th>1</th>\n",
       "      <td>-0.806968</td>\n",
       "      <td>1.578651</td>\n",
       "      <td>0.651198</td>\n",
       "    </tr>\n",
       "    <tr>\n",
       "      <th>2</th>\n",
       "      <td>-3.359623</td>\n",
       "      <td>8.308678</td>\n",
       "      <td>11.287066</td>\n",
       "    </tr>\n",
       "    <tr>\n",
       "      <th>3</th>\n",
       "      <td>-2.326503</td>\n",
       "      <td>2.483908</td>\n",
       "      <td>5.412618</td>\n",
       "    </tr>\n",
       "    <tr>\n",
       "      <th>4</th>\n",
       "      <td>1.461645</td>\n",
       "      <td>5.859824</td>\n",
       "      <td>2.136405</td>\n",
       "    </tr>\n",
       "  </tbody>\n",
       "</table>\n",
       "</div>"
      ],
      "text/plain": [
       "          1     label          2\n",
       "0 -3.117690  7.288960   9.719989\n",
       "1 -0.806968  1.578651   0.651198\n",
       "2 -3.359623  8.308678  11.287066\n",
       "3 -2.326503  2.483908   5.412618\n",
       "4  1.461645  5.859824   2.136405"
      ]
     },
     "execution_count": 209,
     "metadata": {},
     "output_type": "execute_result"
    }
   ],
   "source": [
    "# run polynomial basis\n",
    "data[\"2\"] = [i**2 for i in raw_data[\"1\"]]\n",
    "data.head(5)"
   ]
  },
  {
   "cell_type": "code",
   "execution_count": 220,
   "metadata": {},
   "outputs": [
    {
     "name": "stdout",
     "output_type": "stream",
     "text": [
      "[1.91683208 0.98992502 0.82729944]\n"
     ]
    },
    {
     "data": {
      "text/plain": [
       "[<matplotlib.lines.Line2D at 0x7f7e8261d850>]"
      ]
     },
     "execution_count": 220,
     "metadata": {},
     "output_type": "execute_result"
    },
    {
     "data": {
      "image/png": "[encoded data removed]",
      "text/plain": [
       "<Figure size 360x216 with 1 Axes>"
      ]
     },
     "metadata": {
      "needs_background": "light"
     },
     "output_type": "display_data"
    }
   ],
   "source": [
    "# try regression with polynomial basis\n",
    "regression = Regression(training_data=data, n_features=2, learn_rate=0.01, n_iter=400, tolerance=0.01)\n",
    "weights = regression.bgd()\n",
    "print(weights)\n",
    "line_indpt = np.linspace(-5, 2, 500)\n",
    "line = weights[0] + weights[1] * line_indpt ** 2 + weights [2] * line_indpt\n",
    "\n",
    "plt.figure(figsize=(5,3))\n",
    "plt.scatter(data['1'], data[\"label\"])\n",
    "plt.plot(line_indpt, line, color=\"orange\")"
   ]
  },
  {
   "cell_type": "code",
   "execution_count": null,
   "metadata": {},
   "outputs": [],
   "source": []
  }
 ],
 "metadata": {
  "kernelspec": {
   "display_name": "base",
   "language": "python",
   "name": "python3"
  },
  "language_info": {
   "codemirror_mode": {
    "name": "ipython",
    "version": 3
   },
   "file_extension": ".py",
   "mimetype": "text/x-python",
   "name": "python",
   "nbconvert_exporter": "python",
   "pygments_lexer": "ipython3",
   "version": "3.9.1"
  },
  "orig_nbformat": 4
 },
 "nbformat": 4,
 "nbformat_minor": 2
}
