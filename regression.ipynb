{
 "cells": [
  {
   "cell_type": "code",
   "execution_count": 80,
   "metadata": {},
   "outputs": [],
   "source": [
    "import numpy as np\n",
    "import matplotlib.pyplot as plt\n",
    "import random\n",
    "import pandas as pd"
   ]
  },
  {
   "attachments": {},
   "cell_type": "markdown",
   "metadata": {},
   "source": [
    "# Core Algorithm"
   ]
  },
  {
   "cell_type": "code",
   "execution_count": 183,
   "metadata": {},
   "outputs": [],
   "source": [
    "class Regression:\n",
    "    def __init__(self, training_data, n_features, learn_rate=10, n_iter=100, tolerance=1):\n",
    "        \"\"\"\n",
    "            training_data: DataFrame; raw dataset with two independent variables;\n",
    "            weights: array; output; coefficients\n",
    "            x: array; first independent variable;\n",
    "            y: array; second independent variable;\n",
    "            label: correct provided label;\n",
    "        \"\"\"\n",
    "        self.training_data = training_data\n",
    "        self.weights = np.zeros(n_features + 1)\n",
    "        self.learn_rate = learn_rate\n",
    "        self.n_iter = n_iter\n",
    "        self.tolerance = tolerance\n",
    "\n",
    "        self.label = training_data['label'].to_numpy()\n",
    "    \n",
    "    def prepare_x(self, index):\n",
    "        x = [1]\n",
    "        for column_name in self.training_data.columns:\n",
    "            if column_name != \"label\":\n",
    "                x.append(self.training_data[column_name].to_numpy()[index])\n",
    "        return x\n",
    "        \n",
    "    def calculate_gradient(self, lamb = 0):\n",
    "        length = len(self.label)\n",
    "        total = 0\n",
    "        for index in range(length):\n",
    "            x = self.prepare_x(index)\n",
    "            total += np.multiply(((np.dot(np.transpose(self.weights), x)) - self.label[index]), x)\n",
    "        gradient = (2 * total)/length + 2 * lamb * self.weights\n",
    "        return gradient\n",
    "    \n",
    "    def bgd(self):\n",
    "        for _ in range(self.n_iter):\n",
    "            gradient = self.calculate_gradient()\n",
    "            self.weights -= self.learn_rate * gradient\n",
    "            if np.linalg.norm(gradient) <= self.tolerance:\n",
    "                break\n",
    "        return self.weights\n",
    "    \n",
    "    def calculate_stochastic_gradient(self, lamb = 0):\n",
    "        length = len(self.label)\n",
    "        index = random.randint(0, length-1)\n",
    "        x = self.prepare_x(index)\n",
    "        loss_deriv = np.multiply(((np.dot(np.transpose(self.weights), x)) - self.label[index]), x)\n",
    "        gradient = (2 * loss_deriv)/length + 2 * lamb * self.weights\n",
    "        return gradient\n",
    "    \n",
    "    def sgd(self):\n",
    "        learn_rate = 1\n",
    "        for t in range(self.n_iter):\n",
    "            gradient = self.calculate_stochastic_gradient()\n",
    "            self.weights -= learn_rate * gradient\n",
    "            if t != 0:\n",
    "                learn_rate = 1/t\n",
    "            if np.linalg.norm(gradient) <= self.tolerance:\n",
    "                break\n",
    "        return self.weights\n",
    "        \n"
   ]
  },
  {
   "attachments": {},
   "cell_type": "markdown",
   "metadata": {},
   "source": [
    "# Testing"
   ]
  },
  {
   "cell_type": "code",
   "execution_count": 164,
   "metadata": {},
   "outputs": [],
   "source": [
    "data = pd.read_csv(\"data.csv\")\n",
    "data.rename(columns={'Salary': 'label'}, inplace=True)\n",
    "data.rename(columns={'YearsExperience' : '1'}, inplace=True)\n",
    "\n",
    "regression = Regression(training_data=data, n_features=1, learn_rate=0.01, n_iter=10, tolerance=10)\n",
    "weights = regression.bgd()"
   ]
  },
  {
   "cell_type": "code",
   "execution_count": 165,
   "metadata": {},
   "outputs": [
    {
     "data": {
      "text/plain": [
       "[<matplotlib.lines.Line2D at 0x7fe469a80b50>]"
      ]
     },
     "execution_count": 165,
     "metadata": {},
     "output_type": "execute_result"
    },
    {
     "data": {
      "image/png": "[encoded data removed]",
      "text/plain": [
       "<Figure size 360x216 with 1 Axes>"
      ]
     },
     "metadata": {
      "needs_background": "light"
     },
     "output_type": "display_data"
    }
   ],
   "source": [
    "#visualize raw data\n",
    "line_indpt = np.linspace(0, 12, 100)\n",
    "line = weights[1] * line_indpt + weights[0]\n",
    "plt.figure(figsize=(5,3))\n",
    "plt.scatter(data['1'], data[\"label\"])\n",
    "plt.plot(line_indpt, line, color=\"orange\")"
   ]
  },
  {
   "attachments": {},
   "cell_type": "markdown",
   "metadata": {},
   "source": [
    "### Testing SGD"
   ]
  },
  {
   "cell_type": "code",
   "execution_count": 166,
   "metadata": {},
   "outputs": [
    {
     "name": "stdout",
     "output_type": "stream",
     "text": [
      "6426.730492435482\n",
      "8492.1902353855\n",
      "4026.923893378811\n",
      "3163.7975987983596\n",
      "1874.2492433984694\n",
      "843.7432900592646\n",
      "5688.1569880174\n",
      "1836.2368717400325\n",
      "609.951172583653\n",
      "377.24455275115446\n",
      "2586.5179137099835\n",
      "15609.13323780936\n",
      "374.9520135033862\n",
      "4103.364943340978\n",
      "2708.628685126877\n",
      "1626.2406747507193\n",
      "250.71631997216411\n",
      "230.87073037792365\n",
      "1594.7310957685527\n",
      "1978.0633209255461\n"
     ]
    },
    {
     "data": {
      "text/plain": [
       "[<matplotlib.lines.Line2D at 0x7fe469ab43d0>]"
      ]
     },
     "execution_count": 166,
     "metadata": {},
     "output_type": "execute_result"
    },
    {
     "data": {
      "image/png": "[encoded data removed]",
      "text/plain": [
       "<Figure size 360x216 with 1 Axes>"
      ]
     },
     "metadata": {
      "needs_background": "light"
     },
     "output_type": "display_data"
    }
   ],
   "source": [
    "data = pd.read_csv(\"data.csv\")\n",
    "data.rename(columns={'Salary': 'label'}, inplace=True)\n",
    "data.rename(columns={'YearsExperience' : '1'}, inplace=True)\n",
    "\n",
    "regression = Regression(training_data=data, n_features=1, n_iter=20, tolerance=10)\n",
    "weights = regression.sgd()\n",
    "\n",
    "#visualize raw data\n",
    "line_indpt = np.linspace(0, 12, 100)\n",
    "line = weights[1] * line_indpt + weights[0]\n",
    "plt.figure(figsize=(5,3))\n",
    "plt.scatter(data['1'], data[\"label\"])\n",
    "plt.plot(line_indpt, line, color=\"orange\")"
   ]
  },
  {
   "attachments": {},
   "cell_type": "markdown",
   "metadata": {},
   "source": [
    "# Polynomial Basis and Non-Linear Regression"
   ]
  },
  {
   "attachments": {},
   "cell_type": "markdown",
   "metadata": {},
   "source": [
    "No linear classifier in two dimensions; try transform it into a higher-dimensional dataset.\\\n",
    "Let $k=2$; the feature transformation is:\\\n",
    "$\\phi((x_1,x_2))=(1,x_1,x_2, x_1^2, x_1x_2, x_2^2)$"
   ]
  },
  {
   "cell_type": "code",
   "execution_count": 172,
   "metadata": {},
   "outputs": [
    {
     "data": {
      "text/plain": [
       "[<matplotlib.lines.Line2D at 0x7fe490c96280>]"
      ]
     },
     "execution_count": 172,
     "metadata": {},
     "output_type": "execute_result"
    },
    {
     "data": {
      "image/png": "[encoded data removed]",
      "text/plain": [
       "<Figure size 432x288 with 1 Axes>"
      ]
     },
     "metadata": {
      "needs_background": "light"
     },
     "output_type": "display_data"
    }
   ],
   "source": [
    "random.seed(7)\n",
    "x = 7 * np.random.rand(100, 1) - 5\n",
    "y = 0.8 * x**2 + 0.9*x + 2 + np.random.randn(100, 1)\n",
    "plt.plot(x, y, 'b.')"
   ]
  },
  {
   "cell_type": "code",
   "execution_count": 173,
   "metadata": {},
   "outputs": [],
   "source": [
    "raw_data = {\n",
    "    \"1\": [item for sublist in x for item in sublist],\n",
    "    \"label\": [item for sublist in y for item in sublist]\n",
    "}\n",
    "\n",
    "data = pd.DataFrame(raw_data)"
   ]
  },
  {
   "cell_type": "code",
   "execution_count": 174,
   "metadata": {},
   "outputs": [
    {
     "data": {
      "text/plain": [
       "[<matplotlib.lines.Line2D at 0x7fe4415e4850>]"
      ]
     },
     "execution_count": 174,
     "metadata": {},
     "output_type": "execute_result"
    },
    {
     "data": {
      "image/png": "[encoded data removed]",
      "text/plain": [
       "<Figure size 360x216 with 1 Axes>"
      ]
     },
     "metadata": {
      "needs_background": "light"
     },
     "output_type": "display_data"
    }
   ],
   "source": [
    "# try linear regression\n",
    "regression = Regression(training_data=data, n_features=1, learn_rate=0.05, n_iter=10, tolerance=1)\n",
    "weights = regression.bgd()\n",
    "\n",
    "line_indpt = np.linspace(-5, 2, 500)\n",
    "line = weights[1] * line_indpt + weights[0]\n",
    "plt.figure(figsize=(5,3))\n",
    "plt.scatter(data['1'], data[\"label\"])\n",
    "plt.plot(line_indpt, line, color=\"orange\")"
   ]
  },
  {
   "cell_type": "code",
   "execution_count": 175,
   "metadata": {},
   "outputs": [
    {
     "data": {
      "text/html": [
       "<div>\n",
       "<style scoped>\n",
       "    .dataframe tbody tr th:only-of-type {\n",
       "        vertical-align: middle;\n",
       "    }\n",
       "\n",
       "    .dataframe tbody tr th {\n",
       "        vertical-align: top;\n",
       "    }\n",
       "\n",
       "    .dataframe thead th {\n",
       "        text-align: right;\n",
       "    }\n",
       "</style>\n",
       "<table border=\"1\" class=\"dataframe\">\n",
       "  <thead>\n",
       "    <tr style=\"text-align: right;\">\n",
       "      <th></th>\n",
       "      <th>1</th>\n",
       "      <th>label</th>\n",
       "      <th>2</th>\n",
       "    </tr>\n",
       "  </thead>\n",
       "  <tbody>\n",
       "    <tr>\n",
       "      <th>0</th>\n",
       "      <td>-0.964081</td>\n",
       "      <td>3.296641</td>\n",
       "      <td>0.929453</td>\n",
       "    </tr>\n",
       "    <tr>\n",
       "      <th>1</th>\n",
       "      <td>-2.836172</td>\n",
       "      <td>7.611704</td>\n",
       "      <td>8.043874</td>\n",
       "    </tr>\n",
       "    <tr>\n",
       "      <th>2</th>\n",
       "      <td>-2.213239</td>\n",
       "      <td>2.295509</td>\n",
       "      <td>4.898428</td>\n",
       "    </tr>\n",
       "    <tr>\n",
       "      <th>3</th>\n",
       "      <td>-1.789497</td>\n",
       "      <td>0.628606</td>\n",
       "      <td>3.202300</td>\n",
       "    </tr>\n",
       "    <tr>\n",
       "      <th>4</th>\n",
       "      <td>0.690879</td>\n",
       "      <td>4.251122</td>\n",
       "      <td>0.477314</td>\n",
       "    </tr>\n",
       "  </tbody>\n",
       "</table>\n",
       "</div>"
      ],
      "text/plain": [
       "          1     label         2\n",
       "0 -0.964081  3.296641  0.929453\n",
       "1 -2.836172  7.611704  8.043874\n",
       "2 -2.213239  2.295509  4.898428\n",
       "3 -1.789497  0.628606  3.202300\n",
       "4  0.690879  4.251122  0.477314"
      ]
     },
     "execution_count": 175,
     "metadata": {},
     "output_type": "execute_result"
    }
   ],
   "source": [
    "# run polynomial basis\n",
    "data[\"2\"] = [i**2 for i in raw_data[\"1\"]]\n",
    "data.head(5)"
   ]
  },
  {
   "cell_type": "code",
   "execution_count": 180,
   "metadata": {},
   "outputs": [
    {
     "name": "stdout",
     "output_type": "stream",
     "text": [
      "[ 0.38225521  0.58702465 -0.4140533 ]\n"
     ]
    },
    {
     "data": {
      "text/plain": [
       "[<matplotlib.lines.Line2D at 0x7fe441641130>]"
      ]
     },
     "execution_count": 180,
     "metadata": {},
     "output_type": "execute_result"
    },
    {
     "data": {
      "image/png": "[encoded data removed]",
      "text/plain": [
       "<Figure size 360x216 with 1 Axes>"
      ]
     },
     "metadata": {
      "needs_background": "light"
     },
     "output_type": "display_data"
    }
   ],
   "source": [
    "# try regression with polynomial basis\n",
    "regression = Regression(training_data=data, n_features=2, learn_rate=0.009, n_iter=20, tolerance=0.01)\n",
    "weights = regression.bgd()\n",
    "print(weights)\n",
    "line_indpt = np.linspace(-5, 2, 500)\n",
    "line = weights[0] + weights[1] * line_indpt ** 2 + weights [2] * line_indpt\n",
    "\n",
    "plt.figure(figsize=(5,3))\n",
    "plt.scatter(data['1'], data[\"label\"])\n",
    "plt.plot(line_indpt, line, color=\"orange\")"
   ]
  },
  {
   "attachments": {},
   "cell_type": "markdown",
   "metadata": {},
   "source": [
    "### Testing SGD"
   ]
  },
  {
   "cell_type": "code",
   "execution_count": 181,
   "metadata": {},
   "outputs": [
    {
     "name": "stdout",
     "output_type": "stream",
     "text": [
      "0.28385507775861407\n",
      "0.06067418179993305\n",
      "0.34145365785618137\n",
      "0.23176539259499065\n",
      "0.25617202113688853\n",
      "1.6121672168578807\n",
      "0.6362575800755708\n",
      "0.06386593514691544\n",
      "0.031254913586466704\n",
      "0.13765051153248975\n",
      "0.002935683228196694\n",
      "0.023072971756606577\n",
      "0.05989396220636077\n",
      "0.09109978122825081\n",
      "1.3916725462187483\n",
      "1.5310297728082232\n",
      "0.5678974211010583\n",
      "0.16994201219236477\n",
      "0.04080529958071547\n",
      "1.2741391369918762\n"
     ]
    },
    {
     "data": {
      "text/plain": [
       "[<matplotlib.lines.Line2D at 0x7fe441795910>]"
      ]
     },
     "execution_count": 181,
     "metadata": {},
     "output_type": "execute_result"
    },
    {
     "data": {
      "image/png": "[encoded data removed]",
      "text/plain": [
       "<Figure size 360x216 with 1 Axes>"
      ]
     },
     "metadata": {
      "needs_background": "light"
     },
     "output_type": "display_data"
    }
   ],
   "source": [
    "raw_data = {\n",
    "    \"1\": [item for sublist in x for item in sublist],\n",
    "    \"label\": [item for sublist in y for item in sublist]\n",
    "}\n",
    "data = pd.DataFrame(raw_data)\n",
    "\n",
    "regression = Regression(training_data=data, n_features=1, n_iter=20, tolerance=0.0001)\n",
    "weights = regression.sgd()\n",
    "\n",
    "#visualize raw data\n",
    "line_indpt = np.linspace(-5, 2, 100)\n",
    "line = weights[1] * line_indpt + weights[0]\n",
    "plt.figure(figsize=(5,3))\n",
    "plt.scatter(data['1'], data[\"label\"])\n",
    "plt.plot(line_indpt, line, color=\"orange\")"
   ]
  },
  {
   "cell_type": "code",
   "execution_count": 257,
   "metadata": {},
   "outputs": [
    {
     "data": {
      "text/plain": [
       "[<matplotlib.lines.Line2D at 0x7fe4b28d8b20>]"
      ]
     },
     "execution_count": 257,
     "metadata": {},
     "output_type": "execute_result"
    },
    {
     "data": {
      "image/png": "[encoded data removed]",
      "text/plain": [
       "<Figure size 360x216 with 1 Axes>"
      ]
     },
     "metadata": {
      "needs_background": "light"
     },
     "output_type": "display_data"
    }
   ],
   "source": [
    "# run polynomial basis\n",
    "data[\"2\"] = [i**2 for i in raw_data[\"1\"]]\n",
    "data.head(5)\n",
    "# try regression with polynomial basis\n",
    "regression = Regression(training_data=data, n_features=2, n_iter=50, tolerance=0.0001)\n",
    "weights = regression.sgd()\n",
    "line_indpt = np.linspace(-5, 2, 100)\n",
    "line = weights[0] + weights[1] * line_indpt ** 2 + weights [2] * line_indpt\n",
    "\n",
    "plt.figure(figsize=(5,3))\n",
    "plt.scatter(data['1'], data[\"label\"])\n",
    "plt.plot(line_indpt, line, color=\"orange\")"
   ]
  },
  {
   "cell_type": "code",
   "execution_count": null,
   "metadata": {},
   "outputs": [],
   "source": []
  }
 ],
 "metadata": {
  "kernelspec": {
   "display_name": "base",
   "language": "python",
   "name": "python3"
  },
  "language_info": {
   "codemirror_mode": {
    "name": "ipython",
    "version": 3
   },
   "file_extension": ".py",
   "mimetype": "text/x-python",
   "name": "python",
   "nbconvert_exporter": "python",
   "pygments_lexer": "ipython3",
   "version": "3.9.1"
  },
  "orig_nbformat": 4
 },
 "nbformat": 4,
 "nbformat_minor": 2
}
