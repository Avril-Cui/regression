{
 "cells": [
  {
   "cell_type": "code",
   "execution_count": 1,
   "metadata": {},
   "outputs": [],
   "source": [
    "import numpy as np\n",
    "import matplotlib.pyplot as plt\n",
    "import random\n",
    "import math\n",
    "import pandas as pd"
   ]
  },
  {
   "cell_type": "code",
   "execution_count": 9,
   "metadata": {},
   "outputs": [
    {
     "data": {
      "text/html": [
       "<div>\n",
       "<style scoped>\n",
       "    .dataframe tbody tr th:only-of-type {\n",
       "        vertical-align: middle;\n",
       "    }\n",
       "\n",
       "    .dataframe tbody tr th {\n",
       "        vertical-align: top;\n",
       "    }\n",
       "\n",
       "    .dataframe thead th {\n",
       "        text-align: right;\n",
       "    }\n",
       "</style>\n",
       "<table border=\"1\" class=\"dataframe\">\n",
       "  <thead>\n",
       "    <tr style=\"text-align: right;\">\n",
       "      <th></th>\n",
       "      <th>1</th>\n",
       "      <th>label</th>\n",
       "    </tr>\n",
       "  </thead>\n",
       "  <tbody>\n",
       "    <tr>\n",
       "      <th>0</th>\n",
       "      <td>1.1</td>\n",
       "      <td>39343.0</td>\n",
       "    </tr>\n",
       "    <tr>\n",
       "      <th>1</th>\n",
       "      <td>1.3</td>\n",
       "      <td>46205.0</td>\n",
       "    </tr>\n",
       "    <tr>\n",
       "      <th>2</th>\n",
       "      <td>1.5</td>\n",
       "      <td>37731.0</td>\n",
       "    </tr>\n",
       "    <tr>\n",
       "      <th>3</th>\n",
       "      <td>2.0</td>\n",
       "      <td>43525.0</td>\n",
       "    </tr>\n",
       "    <tr>\n",
       "      <th>4</th>\n",
       "      <td>2.2</td>\n",
       "      <td>39891.0</td>\n",
       "    </tr>\n",
       "  </tbody>\n",
       "</table>\n",
       "</div>"
      ],
      "text/plain": [
       "     1    label\n",
       "0  1.1  39343.0\n",
       "1  1.3  46205.0\n",
       "2  1.5  37731.0\n",
       "3  2.0  43525.0\n",
       "4  2.2  39891.0"
      ]
     },
     "execution_count": 9,
     "metadata": {},
     "output_type": "execute_result"
    }
   ],
   "source": [
    "data = pd.read_csv(\"data.csv\")\n",
    "data.rename(columns={'Salary': 'label'}, inplace=True)\n",
    "data.rename(columns={'YearsExperience' : '1'}, inplace=True)\n",
    "data.head(5)"
   ]
  },
  {
   "cell_type": "code",
   "execution_count": 10,
   "metadata": {},
   "outputs": [
    {
     "data": {
      "text/plain": [
       "<matplotlib.collections.PathCollection at 0x7f7e82012f10>"
      ]
     },
     "execution_count": 10,
     "metadata": {},
     "output_type": "execute_result"
    },
    {
     "data": {
      "image/png": "[encoded data removed]",
      "text/plain": [
       "<Figure size 360x216 with 1 Axes>"
      ]
     },
     "metadata": {
      "needs_background": "light"
     },
     "output_type": "display_data"
    }
   ],
   "source": [
    "#visualize raw data\n",
    "plt.figure(figsize=(5,3))\n",
    "plt.scatter(data['1'], data[\"label\"])"
   ]
  },
  {
   "cell_type": "code",
   "execution_count": 42,
   "metadata": {},
   "outputs": [],
   "source": [
    "class Regression:\n",
    "    def __init__(self, training_data, n_features, n_iter=100, tolerance=1):\n",
    "        \"\"\"\n",
    "            training_data: DataFrame; raw dataset with two independent variables;\n",
    "            weights: array; output; coefficients\n",
    "            x: array; first independent variable;\n",
    "            y: array; second independent variable;\n",
    "            label: correct provided label;\n",
    "        \"\"\"\n",
    "        self.training_data = training_data\n",
    "        # self.weights = np.zeros((n_features+1,1))\n",
    "        self.weights = np.zeros(n_features)\n",
    "        self.weights_0 = 0\n",
    "        self.n_iter = n_iter\n",
    "        self.tolerance = tolerance\n",
    "\n",
    "        self.label = training_data['label'].to_numpy()\n",
    "    \n",
    "    def prepare_x(self, index):\n",
    "        x = []\n",
    "        for column_name in self.training_data.columns:\n",
    "            if column_name != \"label\":\n",
    "                x.append(self.training_data[column_name].to_numpy()[index])\n",
    "        return x\n",
    "    \n",
    "    def calculate_gradient(self, lamb = 0):\n",
    "        length = len(self.label)\n",
    "        index = random.randint(0, length-1)\n",
    "        x = self.prepare_x(index)\n",
    "        gradient = 2/length * np.multiply(((np.dot(np.transpose(self.weights), x)) - self.label[index]), x) + 2 * lamb * self.weights\n",
    "        return gradient\n",
    "    \n",
    "    def bgd(self):\n",
    "        learn_rate = 1\n",
    "        for t in range(self.n_iter):\n",
    "            gradient = self.calculate_gradient()\n",
    "            self.weights -= learn_rate * gradient\n",
    "            if t != 0:\n",
    "                learn_rate = 1/t\n",
    "            print(gradient)\n",
    "            if np.linalg.norm(gradient) <= self.tolerance:\n",
    "                break\n",
    "        return self.weights\n",
    "        \n"
   ]
  },
  {
   "cell_type": "code",
   "execution_count": 46,
   "metadata": {},
   "outputs": [
    {
     "name": "stdout",
     "output_type": "stream",
     "text": [
      "[-22193.08]\n",
      "[8794.21866667]\n",
      "[-1527.31407644]\n",
      "[-483.99724268]\n",
      "[-952.82609773]\n",
      "[-2738.53036178]\n",
      "[-1580.73983079]\n",
      "[1991.75188871]\n",
      "[13861.53836735]\n",
      "[-1741.75295365]\n",
      "[2778.16590381]\n",
      "[-1660.58716637]\n",
      "[-3480.3134355]\n",
      "[7251.34202324]\n",
      "[-2080.24233705]\n",
      "[-3684.1362943]\n",
      "[16293.58061461]\n",
      "[-2536.47444502]\n",
      "[-5279.071804]\n",
      "[-1707.96194242]\n",
      "[16578.78261454]\n",
      "[-2861.14149702]\n",
      "[-2524.78612428]\n",
      "[-1051.79594175]\n",
      "[-2505.85397622]\n",
      "[-884.58625714]\n",
      "[11062.9717377]\n",
      "[-4870.67185484]\n",
      "[-2285.5672512]\n",
      "[-3507.22268741]\n",
      "[-2466.15456422]\n",
      "[-3389.31574012]\n",
      "[-1254.98435448]\n",
      "[1201.9550896]\n",
      "[-1461.61612929]\n",
      "[-349.16284414]\n",
      "[-2161.45824881]\n",
      "[8461.00489353]\n",
      "[-1797.46339201]\n",
      "[11667.90788211]\n",
      "[-771.4245467]\n",
      "[12040.86158981]\n",
      "[-3015.25580521]\n",
      "[-2225.89871546]\n",
      "[-6206.5876545]\n",
      "[11819.31877926]\n",
      "[-0.96393298]\n"
     ]
    }
   ],
   "source": [
    "regression = Regression(training_data=data, n_features=1, n_iter=100, tolerance=10)\n",
    "weights = regression.bgd()"
   ]
  },
  {
   "cell_type": "code",
   "execution_count": 49,
   "metadata": {},
   "outputs": [
    {
     "data": {
      "text/plain": [
       "[<matplotlib.lines.Line2D at 0x7f7e3005ef70>]"
      ]
     },
     "execution_count": 49,
     "metadata": {},
     "output_type": "execute_result"
    },
    {
     "data": {
      "image/png": "[encoded data removed]",
      "text/plain": [
       "<Figure size 360x216 with 1 Axes>"
      ]
     },
     "metadata": {
      "needs_background": "light"
     },
     "output_type": "display_data"
    }
   ],
   "source": [
    "#visualize raw data\n",
    "plt.figure(figsize=(5,3))\n",
    "plt.scatter(data['1'], data[\"label\"])\n",
    "line_indpt = np.linspace(0, 12, 100)\n",
    "line = weights * line_indpt\n",
    "plt.plot(line_indpt, line, color=\"orange\")"
   ]
  },
  {
   "cell_type": "code",
   "execution_count": null,
   "metadata": {},
   "outputs": [],
   "source": []
  }
 ],
 "metadata": {
  "kernelspec": {
   "display_name": "base",
   "language": "python",
   "name": "python3"
  },
  "language_info": {
   "codemirror_mode": {
    "name": "ipython",
    "version": 3
   },
   "file_extension": ".py",
   "mimetype": "text/x-python",
   "name": "python",
   "nbconvert_exporter": "python",
   "pygments_lexer": "ipython3",
   "version": "3.9.1"
  },
  "orig_nbformat": 4
 },
 "nbformat": 4,
 "nbformat_minor": 2
}
